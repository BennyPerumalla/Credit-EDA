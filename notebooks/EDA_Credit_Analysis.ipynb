# notebooks/EDA_Credit_Analysis.ipynb

import pandas as pd
import numpy as np
import matplotlib.pyplot as plt
import seaborn as sns

# Load application data
application_data = pd.read_csv('data/application_data.csv')
previous_application_data = pd.read_csv('data/previous_application_data.csv')

# Display the first few rows of the dataset
print(application_data.head())
print(previous_application_data.head())
